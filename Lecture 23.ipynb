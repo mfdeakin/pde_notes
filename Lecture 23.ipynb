{
 "cells": [
  {
   "cell_type": "markdown",
   "metadata": {},
   "source": [
    "# Sobolev Spaces - Finale\n",
    "## 1. Density Theorem\n",
    "$$\n",
    "\\bar{C^\\infty(\\Omega)} = W^{k, p}(\\Omega)\\\\\n",
    "\\bar{C_0^\\infty(\\Omega)} = W^{k, p}(\\Omega)\n",
    "$$\n",
    "\n",
    "## 2. Extension Operator\n",
    "## 3. Trace Operator\n",
    "## 4. Sobolev Inequalities\n",
    "## 5. Compactness of Embedding\n",
    "$$\n",
    "W^{1, p}(\\Omega) \\rightarrow \\text{compact} L^q(\\Omega), 1 \\leq q < \\frac{n p}{n - p}\n",
    "$$\n",
    "\n",
    "### Applications"
   ]
  },
  {
   "cell_type": "markdown",
   "metadata": {},
   "source": [
    "#### Theorem 1 Poincare Inequality\n",
    "Recall $||u||_{L^q(\\Omega)} \\leq C ||\\nabla u||_{L^p(\\Omega)} \\forall u \\in W^{1, p}(\\Omega)$\n",
    "Then\n",
    "$$\n",
    "\\int_\\Omega |u|^p \\leq C \\int_\\Omega |\\nabla u|^p, u \\in W^{1, p}_0(\\Omega)\n",
    "$$\n",
    "is the Poincare Inequality\n",
    "\n",
    "$$\n",
    "u - \\frac{1}{|\\Omega|} \\int_\\Omega u||_{L^p(\\Omega)} \\leq C ||\\nabla u||_{L^p(\\Omega)}\n",
    "$$\n",
    "\n",
    "##### Proof by contradiction\n",
    "Suppose the inequality is not true.\n",
    "Then $\\forall m$, we can find $u_m$ s.t. $||u_m - \\bar{u_m}||_{L^p} \\geq m ||\\nabla u_m||_{L^p}$\n",
    "\n",
    "Normalize $\\tilde{u}_m = \\frac{u_m - \\bar{u}_m}{||u_m - \\bar{u}_m||_{L^p}}$, so $||\\tilde{u}_m||_{L^p} = 1$\n",
    "\n",
    "Then\n",
    "$$\n",
    "||\\nabla \\tilde{u}_m||_{L^p} = \\frac{||\\nabla u_m||_{L^p}}{||u_m - \\bar{u}_m||_{L^p}} \\leq \\frac{1}{m} \\frac{||u_m - \\bar{u}_m||_{L^p}}{||u_m||_{L^p}} \\leq \\frac{C}{m} \\rightarrow 0\\\\\n",
    "\\tilde{u}_m \\in W^{1, p}(\\Omega), ||\\tilde{u}_m||_{W^{1, p}} \\leq C\n",
    "$$\n",
    "By compactness, $\\exists$ a subsequence $\\tilde{u}_m \\rightarrow u_0 \\in L^p(\\Omega)$\n",
    "\n",
    "Then $1 = \\int_\\Omega |\\tilde{u}_m|^p \\rightarrow \\int_\\Omega |u_0|^p = 1$\n",
    "By Fatou's Lemma\n",
    "$$\n",
    "\\int \\lim_{m \\rightarrow \\infty} |\\nabla \\tilde{u}_m|^p \\leq \\lim_{m \\rightarrow \\infty} \\int |\\nabla \\tilde{u}_m|^p \\rightarrow 0\\\\\n",
    "\\rightarrow |\\nabla u_0| = 0\n",
    "$$\n",
    "\n",
    "Claim: $u_0$ is constant; essentially by the same proof as in the homework\n",
    "Let $u_0^\\epsilon = \\eta^\\epsilon * u_0, d(x, \\partial \\Omega) > \\epsilon, \\nabla u_0^\\epsilon = \\eta^\\epsilon * \\nabla u_0 = 0 \\rightarrow u_0^\\epsilon = C_\\epsilon$\n",
    "Then as $\\epsilon \\rightarrow 0$, $u_0 \\rightarrow C$\n",
    "\n",
    "We essentially do the same thing in one of our homeworks\n",
    "\n",
    "Probably some mistakes in the above"
   ]
  },
  {
   "cell_type": "markdown",
   "metadata": {},
   "source": [
    "#### Differentiability of $W^{1, p}(\\Omega)$ for $p > 0$\n",
    "By Sobolev Embedding (Morrey's Estimates)\n",
    "\n",
    "$$\n",
    "|u(x) - u(y)| \\leq C |x - y|^{1 - \\frac{n}{p}} ||D u||_{L^p(B_r(x))}, y \\in B_r(x)\\\\\n",
    "u \\in C^{1 - \\frac{n}{p}\n",
    "$$\n",
    "$u$ is differntiable at a point $x$ if the usual equality holds:\n",
    "$\\lim_{y \\rightarrow x} \\frac{u(y) - u(x) - \\nabla u(x) (y - x)}{|y - x|} = 0$\n",
    "\n",
    "Sobolev space functions are better than Holder space functions\n",
    "\n",
    "If $u \\in W^{1, p}(\\Omega), p > n$, then $u$ is differentiable almost everywhere.\n",
    "\n",
    "##### Proof\n",
    "Use Morrey's Estimates\n",
    "$$\n",
    "|u(x) - u(y)| \\leq C |x - y|^{1 - \\frac{n}{p}} ||D u||_{L^p(B_r(0))}, y \\in B_r(x)\\\\\n",
    "D u \\in L^p(\\Omega) \\rightarrow \\text{ a.e. are Lebesgue points.}\\\\\n",
    "\\lim_{r \\rightarrow 0} \\frac{1}{|B_r(x)|} \\int_{B_r(x)} |D u(y) - D u(x)|^p dy = 0\n",
    "$$\n",
    "Pick a Lebesgue point of $D u$, say $x$. Then we claim that $u$ is differentiable at $x$.\n",
    "$w(y) = u(y) - u(x) - \\nabla u(x)(y - x)$\n",
    "\n",
    "Apply Morrey's estimate to $w$:\n",
    "$$\n",
    "|w(y) - w(x)| = |w(y)| \\leq c |x - y|^{1 - \\frac{n}{p}} \\left( \\int_{B_r(x)} |D u(x) - D u(y)|^p dy \\right)^{\\frac{1}{p}}\\\\\n",
    "\\leq C |x - y| \\left( \\frac{1}{|B_r(x)|} \\int_{B_r(x)} |D u(x) - D u(y)|^p dy \\right)^p = 0\n",
    "$$\n",
    "\n",
    "Thus,\n",
    "$$\n",
    "u(y) = u(x) + D u(x) (y - x) + 0(|y - x|)\n",
    "$$"
   ]
  },
  {
   "cell_type": "markdown",
   "metadata": {},
   "source": [
    "## Dual Space of $W_0^{1, 2}(\\Omega) = H_0^1(\\Omega)$\n",
    "\n",
    "Intuitive\n",
    "$$\n",
    "-\\nabla u = f\\\\\n",
    "\\int \\nabla u \\nabla v dx = \\int f v dx \\forall v \\in H_0^1(\\Omega)\n",
    "$$\n",
    "What kind of $f$ on the right hand side solves the problem? $H^{-1}(\\Omega) = \\{f : H_0^1(\\Omega) \\rightarrow R, f \\text{ is a bounded linear functional}\\}$\n",
    "\n",
    "### Example 1\n",
    "$g \\in L^2(\\Omega)$\n",
    "Then $g$ will induce a linear function\n",
    "Define $<g, v> = \\int_\\Omega g v dx$, then $g$ is a bounded linear functional.\n",
    "$|<g, v>| \\leq ||g||_{L^2} ||v||_{L^2}|| \\leq ||g||_{L^2} ||v||_{H_0^1}$\n",
    "$L^2$ isn't interesting\n",
    "\n",
    "### Example 2\n",
    "Take $f \\in L^2$, and it has a weak derivative\n",
    "Then\n",
    "$$\n",
    "<\\partial_i f, v> = -\\int_{\\Omega} f \\partial_i v\\\\\n",
    "v \\in C_0^\\infty, \\int f \\partial_i v = - \\int (\\partial_i f) v\\\\\n",
    "|<\\partial_i f, v>| \\leq ||f||_{L^2} ||v||_{H_0^1(\\Omega)\n",
    "$$\n",
    "\n",
    "What is $H^{-1}$?\n",
    "$$\n",
    "H^{-1}(\\Omega) = \\left\\{ f_0 + \\sum \\partial_j f_j | f_j \\in L^2 \\right\\}\n",
    "$$"
   ]
  },
  {
   "cell_type": "markdown",
   "metadata": {},
   "source": []
  },
  {
   "cell_type": "markdown",
   "metadata": {},
   "source": []
  },
  {
   "cell_type": "markdown",
   "metadata": {},
   "source": []
  },
  {
   "cell_type": "markdown",
   "metadata": {},
   "source": []
  },
  {
   "cell_type": "markdown",
   "metadata": {},
   "source": []
  },
  {
   "cell_type": "markdown",
   "metadata": {},
   "source": []
  },
  {
   "cell_type": "markdown",
   "metadata": {},
   "source": []
  },
  {
   "cell_type": "markdown",
   "metadata": {},
   "source": []
  },
  {
   "cell_type": "markdown",
   "metadata": {},
   "source": []
  },
  {
   "cell_type": "markdown",
   "metadata": {},
   "source": []
  },
  {
   "cell_type": "markdown",
   "metadata": {},
   "source": []
  }
 ],
 "metadata": {
  "kernelspec": {
   "display_name": "Python 3",
   "language": "python",
   "name": "python3"
  },
  "language_info": {
   "codemirror_mode": {
    "name": "ipython",
    "version": 3
   },
   "file_extension": ".py",
   "mimetype": "text/x-python",
   "name": "python",
   "nbconvert_exporter": "python",
   "pygments_lexer": "ipython3",
   "version": "3.7.4"
  }
 },
 "nbformat": 4,
 "nbformat_minor": 2
}
