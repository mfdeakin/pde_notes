{
 "cells": [
  {
   "cell_type": "markdown",
   "metadata": {},
   "source": [
    "# Sobolev Inequalities\n",
    "$$\n",
    "p < n \\rightarrow ||u||_{L^{\\frac{n p}{n - p}}} \\leq c ||D u||_{L^p}, \\forall u \\in C^\\infty_0(R^n)\\\\\n",
    "\\rightarrow ||u||_{L^q(\\Omega)} \\leq c ||u||_{W^{1, p}(\\Omega)}, 1 \\leq q \\leq \\frac{n p}{n - p}\\\\\n",
    "||u||_{L^q} \\leq C ||D u||_{L^p}, u \\in W^{1, p}_0(\\Omega)\n",
    "$$\n",
    "\n",
    "## Theorem 1\n",
    "$$\n",
    "p > n\\\\\n",
    "||u||_{C^{0, \\gamma}} \\leq c ||D u||_{L^p}, \\forall u \\in C^\\infty_0\\\\\n",
    "$$\n",
    "\n",
    "### Proof\n",
    "Fix $x$\n",
    "$$\n",
    "\\int_{\\partial B_s(x)} |u(y) - u(x)| d\\sigma_y \\leq s^{n - 1} \\int_{B_s(x)} \\frac{|D u|}{|x - y|^{n - 1}} dy \\leq s^{n - 1} \\int_{B_\\gamma(x)} \\frac{|D u|}{|x - y|^{n - 1}} dy\\\\\n",
    "\\int_{B_r} |u(y) - u(x)| dy\\\\\n",
    "  = \\int_0^r \\int_{\\partial B_s(x)} |u(y) - u(x)| d\\sigma ds \\leq \\frac{r^n}{n} \\int_{B_r} \\frac{|D u|}{|x - y|^{n - 1}} dy\n",
    "$$\n",
    "#### Claim 1\n",
    "$$\n",
    "|u(x)| \\leq \\frac{1}{\\omega_n} \\int [|u(x) - u(y)| + |u(y)|] dy\n",
    "  \\leq \\frac{1}{\\alpha_n} \\int_{B_1} \\frac{|D u|}{|x - y|^{n - 1}} dy + \\frac{1}{\\omega_n} \\int_{B_1} |u(x)| dx\\\\\n",
    "  \\leq C_n \\left( \\int_{B_1} |D u|^p \\right)^{1 / p} \\left( \\int_0^1 \\frac{r^{n - 1}}{r^{(n - 1)q}} \\right)^{1 / q} + C ||u||_{L^p}\\\\\n",
    "  |u|_{L^\\infty} \\leq c ||u||_{W^{1, p}}\n",
    "$$\n",
    "\n",
    "#### Claim 2\n",
    "$$\n",
    "|u(x) - u(y)| \\leq c |x - y|^{1 - n / p} ||u||_{W^{1, p}}\n",
    "$$\n",
    "\n",
    "Intersection of two circles centered at $x$ and $y$\n",
    "$$\n",
    "|u(x) - u(y)| \\leq |u(x) - u(z)| + |u(z) - u(y)|\\\\\n",
    "z \\in B_r(x) \\cap B_r(y) = W\\\\\n",
    "|u(x) - u(y)| \\leq \\frac{1}{|W|} \\int_W |u(x) - u(z)| dz + \\frac{1}{|W|}\\\\\n",
    "  \\leq \\frac{1}{|W|} \\int_{B_r(x)} |u(x) - u(z)| dz + \\frac{1}{|W|} \\int_{B_r(y)} |u(y) - u(z)| dz\\\\\n",
    "  \\leq \\frac{r^n}{|W|} C_n \\int_{B_r(x)} \\frac{|D u|}{|x - z|^{n - 1}} dz + \\frac{r^n}{|W|} C_n \\int_{B_r(y)} \\frac{|D u|}{|y - z|} dz\\\\\n",
    "$$\n",
    "\n",
    "$$\n",
    "  \\leq C_r \\left( \\int_{B_r(x)} |D u|^p \\right)^{1 / p} \\left( \\int_{B_r(x)} \\frac{1}{|x - z|^{(n - 1) q} dz \\right)^{1 / q} + c_n \\left( \\int_{B_r(y)} |D u|^p \\right)^{1 . p} \\left( \\int_{B_r(y)} \\frac{1}{|y - z|}^{(n - 1) q} dz \\right)^{1 / q}\n",
    "$$"
   ]
  },
  {
   "cell_type": "markdown",
   "metadata": {},
   "source": [
    "## Theorem 2\n",
    "$\\Omega$ bounded, $\\partial \\Omega \\in C^1$, then we have\n",
    "$$\n",
    "||u||_{L^\\infty(\\Omega)} + \\sup_{x \\neq y} \\frac{|u(x) - u(y)|}{|x - y|^{1 - n / p}} \\leq c ||u|||_{W^{1, p}(\\Omega)}\\\\\n",
    "C^{0, 1 - n / p} \\subset C^{0, \\alpha}(\\Omega), \\alpha \\leq 1 - \\frac{n}{p}\n",
    "$$\n",
    "\n",
    "## Corollary 1\n",
    "$$\n",
    "p > n \\rightarrow ||u||_{C^{0, \\alpha}(\\Omega)} \\leq C ||u||_{W^{1, p}(\\Omega)}, \\alpha \\leq 1 - n / p\\\\\n",
    "$$\n",
    "\n",
    "### Summary\n",
    "For $k = 1$, we have\n",
    "$$\n",
    "W^{1, p}(\\Omega) \\rightarrow L^q(\\Omega), q \\leq \\frac{n p}{n - p}, p < n\\\\\n",
    "W^{1, p}(\\Omega) \\rightarrow L^q(\\Omega), q \\leq \\infty, p = n\\\\\n",
    "W^{1, p}(\\Omega) \\rightarrow C^{0, \\alpha}(\\Omega), \\alpha \\leq 1 - \\frac{n}{p}\n",
    "$$\n",
    "\n",
    "$p = n$ is the borderline case, we have\n",
    "$$\n",
    "\\int_\\Omega e^{\\frac{\\alpha |u|^2}{||u||_{W^{1, p}(\\Omega)}^2}} < \\infty\\\\\n",
    "\\alpha \\leq \\alpha_{n, p}\n",
    "$$\n",
    "the Moser-Trudinger Inequality, Orlicz space"
   ]
  },
  {
   "cell_type": "markdown",
   "metadata": {},
   "source": [
    "\n",
    "# Sobolev Embeddings\n",
    "## Defintion\n",
    "Given\n",
    "$$\n",
    "X \\subset Y\n",
    "$$\n",
    "\n",
    "$X \\rightarrow Y$ is called an embedding\n",
    "$||u||_Y \\leq C ||u||_X$\n",
    "\n",
    "The summary of relations of $W^{1, p}(\\Omega)$ to various spaces are continuous embeddings\n",
    "\n",
    "## Compactness of Embeddings\n",
    "\n",
    "### Definiton 2\n",
    "Let $X \\rightarrow Y$ be an embedding. We say that this embedding is compact if every bounded sequence in $X$ contains a convergent subsequence.\n",
    "\n",
    "### Possible Example of Non-Compactness\n",
    "#### Example 1\n",
    "$\\Omega = (0, 1), u_m(x) = \\sin(m x), X = L^2((0, 1)), Y = L^1((0, 1))$\n",
    "\n",
    "$$\n",
    "||u||_{L^1} \\leq ||u||_{L^2}, ||u_m||_{L^2} \\leq 1\n",
    "$$\n",
    "\n",
    "If $u_{m_j} \\rightarrow u_0 \\in L^1$, we have $u_0 = 0$, because $u_m \\rightarrow 0$ weakly (whatever that means)\n",
    "No control over the derivative. Too many oscillations. Then we can have non-compactness.\n",
    "\n",
    "####  Example 2\n",
    "$\\Omega, W^{1, 2}(\\Omega) \\rightarrow L^{\\frac{2 n}{n - 2}}(\\Omega)$\n",
    "\n",
    "Claim: Not compact\n",
    "\n",
    "Fix $u_0 \\in C_0^\\infty(\\Omega), u_0 \\geq 0$.\n",
    "Then\n",
    "$$\n",
    "v_\\lambda = \\lambda^{-\\frac{n - 2}{2}} u_0\\left(\\frac{x}{\\lambda}\\right),\\\\\n",
    "\\int_{\\Omega} |\\nabla v_\\lambda|^2 dx = \\int_{\\Omega} |\\nabla u_0|^2 dx < \\infty\n",
    "$$\n",
    "This sequence is uniformly bounded, but doesn't have a convergent subsequence\n",
    "$$\n",
    "||v_{\\lambda}||_{W^{1, 2}} \\leq C < \\infty\\\\\n",
    "\\int |v_\\lambda|^2 \\rightarrow 0 \\text{ as } \\lambda \\rightarrow 0\n",
    "$$"
   ]
  },
  {
   "cell_type": "markdown",
   "metadata": {},
   "source": []
  },
  {
   "cell_type": "markdown",
   "metadata": {},
   "source": []
  },
  {
   "cell_type": "markdown",
   "metadata": {},
   "source": []
  },
  {
   "cell_type": "markdown",
   "metadata": {},
   "source": []
  },
  {
   "cell_type": "markdown",
   "metadata": {},
   "source": []
  },
  {
   "cell_type": "markdown",
   "metadata": {},
   "source": []
  },
  {
   "cell_type": "markdown",
   "metadata": {},
   "source": []
  },
  {
   "cell_type": "markdown",
   "metadata": {},
   "source": []
  },
  {
   "cell_type": "markdown",
   "metadata": {},
   "source": []
  }
 ],
 "metadata": {
  "kernelspec": {
   "display_name": "Python 3",
   "language": "python",
   "name": "python3"
  },
  "language_info": {
   "codemirror_mode": {
    "name": "ipython",
    "version": 3
   },
   "file_extension": ".py",
   "mimetype": "text/x-python",
   "name": "python",
   "nbconvert_exporter": "python",
   "pygments_lexer": "ipython3",
   "version": "3.7.4"
  }
 },
 "nbformat": 4,
 "nbformat_minor": 2
}
