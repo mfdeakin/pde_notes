{
 "cells": [
  {
   "cell_type": "markdown",
   "metadata": {},
   "source": [
    "# Compactness\n",
    "Want to prove\n",
    "\n",
    "## Theorem\n",
    "$$\n",
    "1 \\leq q \\leq \\frac{n p}{n - p}; p < n; W^{1, p} \\rightarrow L^q(\\Omega)\n",
    "$$\n",
    "is compact, which means that any bounded sequence has a convergent subsequence.\n",
    "\n",
    "ie, $||u_m||_{W^{1, p}(\\Omega)} \\rightarrow \\exists$ a convergent subsequence in $L^q(\\Omega)$\n",
    "\n",
    "### Remark\n",
    "1) If $q = \\frac{n p}{n - p}$; $W^{1, p}(\\Omega) \\rightarrow L^{q}(\\Omega)$ is not compact.\n",
    "Why?\n",
    "\n",
    "$$\n",
    "0 \\in \\Omega, u_0 \\in C_0^\\infty(\\Omega), u_0 \\geq 0, \\sup(u_0) \\subset B_1(0)\\\\\n",
    "u_{\\lambda}(x) = \\lambda^{\\frac{p - n}{p}} u_0\\left(\\frac{x}{\\lambda}\\right), \\lambda \\text{ small}\\\\\n",
    "$$\n",
    "\n",
    "Check\n",
    "$$\n",
    "\\int_\\Omega |\\nabla u_\\lambda|^p = \\int_\\Omega |\\nabla u_0|^p,\\\\\n",
    "\\int_\\Omega u_\\lambda^p = \\lambda^p \\int_\\Omega u_0^2 \\rightarrow 0 \\text{ as } \\lambda \\rightarrow 0\\\\\n",
    "\\lambda = \\frac{1}{m}, m \\rightarrow \\infty, ||u_{1/m}||_{W^{1, p}} \\leq C < \\infty\\\\\n",
    "\\int_{\\Omega} u_\\lambda^{\\frac{n p}{n - p}} = \\int_\\Omega u_0^{\\frac{n p}{n - p}}\n",
    "$$\n",
    "\n",
    "Then we claim that $u_\\lambda$ doesn't contain a convergent subsequence\n",
    "\n",
    "If $u_\\lambda \\rightarrow v \\in L^{\\frac{n p}{n - p}}$, then\n",
    "$$\n",
    "\\int u_\\lambda \\phi \\rightarrow 0, u_\\lambda \\rightarrow 0\\\\\n",
    "\\int v^{\\frac{n p}{n - p}} = \\lim \\int u_\\lambda^{\\frac{n p}{n - p}} = \\int u_0^{\\frac{n p}{n - p}}\n",
    "$$\n",
    "\n",
    "$\\frac{n p}{n - p}$ is the critical Sobolev exponent\n",
    "\n",
    "2) If $\\Omega = R^n$, the following $W^{1, p}(R^n) \\rightarrow L^q(R^n), p \\leq q \\leq \\frac{n p}{n - p}$ is an embedding which is not compact\n",
    "\n",
    "$$\n",
    "u_0 \\in C_0^\\infty(R^n), \\sup u_0 \\subset B_1, u_0(x - 2 j e_1) = u_j\n",
    "$$\n",
    "$\\{u_j\\}$ doesn't contain any Cauchy sequence in $L^q$\n",
    "\n",
    "### Proof\n",
    "We just need to prove it for $q = 1$, the rest follow.\n",
    "If $||u_m - u||_{L^1} \\rightarrow 0, u_m, u \\in W^{1, p}(\\Omega), ||u_m||_{W^{1, p}} + ||u||_{W^{1, p}} \\leq C$, then\n",
    "$$\n",
    "||u_m - u||_{L^q} \\leq ||u_m - u||_{L^1}^\\theta ||u_m - u||_{L^{\\frac{n p}{n - p}}}^{1 - \\theta}, 1 < q < \\frac{n p}{n - p}\\\\\n",
    "\\frac{1}{q} = \\theta + \\frac{(1 - \\theta)(n - p)}{n p}\\\\\n",
    "||u_m - u||_{L^q} \\leq C ||u_m - u||_{L^1}{^\\theta}\n",
    "$$\n",
    "\n",
    "Assume that $q = 1$. Let $\\{ u_m \\}$ be a bounded sequence in $W^{1, p}(\\Omega)$\n",
    "$||u_m||_{W^{1, p}(\\Omega)} \\leq 1$\n",
    "\n",
    "$u_m$ can be extended to $W^{1, p}(V)$, with $\\Omega \\subset \\subset V, \\sup E u_m \\subset V$ (still call $E u_m$ just $u_m$?)\n",
    "Fix $\\epsilon > 0$\n",
    "$$\n",
    "u_m^\\epsilon(x) = \\int \\eta_\\epsilon(x - y) u_m(y) dy, x \\in \\Omega\n",
    "$$\n",
    "\n",
    "#### Claim 1\n",
    "$||u_m^\\epsilon(x) - u_m(x)||_{L^1(\\Omega)} \\leq C \\epsilon$\n",
    "##### Proof\n",
    "$$\n",
    "|u_m^\\epsilon(x) - u_m(x)| = \\left| \\int \\eta_\\epsilon(y) [u_m(x - y) - u_m(x)] dy \\right| \\leq \\epsilon^{-n} \\int \\eta\\left( \\frac{y}{\\epsilon} \\right) \\left( \\int_0^1 |D u_m(x - sy)| |y| dx \\right) dy \\leq \\epsilon^{1 - n} \\int \\eta\\left(\\frac{y}{\\epsilon}\\right) \\left( \\int_0^1 |D u_m| ds \\right) dy\n",
    "$$\n",
    "\n",
    "$$\n",
    "\\int_\\Omega |u_m^\\epsilon(x) - u_m(x)| \\leq \\epsilon^{1 - n} \\int_\\Omega \\left( \\int \\eta\\left(\\frac{y}{\\epsilon}\\right) \\right) \\left( \\int_0^1 |D u_m(x - s y)| ds \\right) dy dx\\\\\n",
    "$$\n",
    "Integrate $x$ first, then $y$\n",
    "$$\n",
    "\\epsilon^{1 - n} \\int \\eta\\left(\\frac{y}{\\epsilon}\\right) \\int_0^1 \\left( \\int_\\Omega |D u_m(x - s y)| dx \\right) ds dy\\\\\n",
    "\\leq \\epsilon ||D u_m||_{L^1(V)} \\leq C \\epsilon ||D u_m||_{L^p(V)}\n",
    "$$\n",
    "\n",
    "Fix $\\delta > 0$. Then we can find $\\epsilon < \\frac{\\delta}{c}$ s.t. $||u_m^\\epsilon - u_m||_{L^1(\\Omega)} \\leq \\delta \\forall m \\geq 1$\n",
    "\n",
    "For this fixed $\\epsilon$, $\\{ u_m^\\epsilon \\}$ is a bounded sequence in $L^\\infty(\\Omega)$.\n",
    "$$\n",
    "|u_m^\\epsilon(x) = \\epsilon^{-n} \\int \\eta\\left(\\frac{y}{\\epsilon}\\right) u_m(x - y) dy \\leq c \\epsilon^{-n} ||u_m||_{L^1(V)} \\leq c \\epsilon^{-n}\\\\\n",
    "||D u_m^\\epsilon(x)||_{L^\\infty} \\leq C \\epsilon^{-n}\n",
    "$$\n",
    "Use Ascoli-Arzela Theorem\n",
    "$$\n",
    "\\exists m_j \\text{ s.t. } ||u_{m_j}^\\epsilon - u_{m_k}^{\\epsilon}||_{L^1} \\rightarrow 0, \\text{ as } j, k \\rightarrow \\infty\\\\\n",
    "\\delta = 1, ||u_m^{\\epsilon_1} - u_m||_{L^1} < \\frac{1}{3}\n",
    "$$\n",
    "For $\\epsilon_1$, $||u_{m_j^1}^{\\epsilon_1} - u_{m_k^1}^{\\epsilon_1} < \\frac{1}{3}$, for $j, k \\geq N_1$\n",
    "Then\n",
    "$$\n",
    "||u_{m_j^1} - u_{m_k^1}|| \\leq ||u_{m_j^1} - u_{m_j^1}^\\epsilon||_{L^1} + ||u_{m_j^1}^{\\epsilon_1} - u_{m_k^1}^{\\epsilon_1}||_{L^1} + ||u_{m_k^1}^{\\epsilon_1} - u_{m_k^1}||_{L^1} < 1\n",
    "$$\n",
    "\n",
    "For $\\delta = \\frac{1}{2}$, $||u_{m_j^1}^{\\epsilon_1} - u_{m_j^1}|| < \\frac{1}{3} \\delta$\n",
    "\n",
    "Fix $\\epsilon_2$, $\\{u_{m_j^2}^{\\epsilon_2}\\} \\subset \\{u_{m_j^1}^{\\epsilon_2}\\}$\n",
    "Then\n",
    "$$\n",
    "||u_{m_j^2} - u_{m_k^2}||_{L_1} < \\frac{1}{2}, \\{u_{m_j^2}\\} \\subset \\{u_{m_j^1}\\}\\\\\n",
    "\\delta = \\frac{1}{2^l}, ||u_{m_j^l} - u_{m_k^l}|| < \\frac{1}{2^l}\n",
    "$$\n",
    "$\\{u_{m_l^l}\\}$ is a Cauchy Sequence in $L^1$ completing our proof"
   ]
  },
  {
   "cell_type": "markdown",
   "metadata": {},
   "source": [
    "## Theorem\n",
    "$p > n, W^{1, p}(\\Omega) \\rightarrow C^{0, \\alpha}, 0 < \\alpha < 1 - \\frac{n}{p}$\n",
    "\n",
    "### Proof\n",
    "Much easier!!! Just Ascoli-Arzela\n",
    "\n",
    "$$\n",
    "||u_m||_{W^{1, p}(\\Omega)} \\leq 1 \\rightarrow ||u_m||_{C^{0, 1 - n / p}(\\Omega)} \\leq C\\\\\n",
    "C^{0, \\alpha}(\\Omega) \\rightarrow C^{0, \\beta}(\\Omega), \\beta < \\alpha, C^{0, 1 - n/p}(\\Omega) \\rightarrow C^{0, \\alpha}(\\Omega); \\alpha < 1 - \\frac{n}{p}\n",
    "$$"
   ]
  },
  {
   "cell_type": "markdown",
   "metadata": {},
   "source": []
  },
  {
   "cell_type": "markdown",
   "metadata": {},
   "source": []
  },
  {
   "cell_type": "markdown",
   "metadata": {},
   "source": []
  },
  {
   "cell_type": "markdown",
   "metadata": {},
   "source": []
  },
  {
   "cell_type": "markdown",
   "metadata": {},
   "source": []
  },
  {
   "cell_type": "markdown",
   "metadata": {},
   "source": []
  },
  {
   "cell_type": "markdown",
   "metadata": {},
   "source": []
  },
  {
   "cell_type": "markdown",
   "metadata": {},
   "source": []
  },
  {
   "cell_type": "markdown",
   "metadata": {},
   "source": []
  },
  {
   "cell_type": "markdown",
   "metadata": {},
   "source": []
  }
 ],
 "metadata": {
  "kernelspec": {
   "display_name": "Python 3",
   "language": "python",
   "name": "python3"
  },
  "language_info": {
   "codemirror_mode": {
    "name": "ipython",
    "version": 3
   },
   "file_extension": ".py",
   "mimetype": "text/x-python",
   "name": "python",
   "nbconvert_exporter": "python",
   "pygments_lexer": "ipython3",
   "version": "3.7.4"
  }
 },
 "nbformat": 4,
 "nbformat_minor": 2
}
