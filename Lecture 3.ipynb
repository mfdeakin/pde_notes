{
 "cells": [
  {
   "cell_type": "markdown",
   "metadata": {},
   "source": [
    "Last week: 2.2. Laplace Equation\n",
    "\n",
    "$-\\Delta u(x) = f(x),\\ x \\in R^n,\\ f \\in C^\\infty(R^n)$\n",
    "\n",
    "#### Theorem\n",
    "\n",
    "If $u$ is bounded and $C^3$, then $u(x) = \\int_{R^n} \\Phi(x - y) f(y) dy + C$\n",
    "\n",
    "$$\n",
    "\\Phi(x - y) = \\Phi(|x - y|) =\n",
    "\\begin{cases}\n",
    "\\frac{1}{2} |x - y|, & n = 1\\\\\n",
    "\\frac{1}{2 \\pi} \\log |x - y|, & n = 2\\\\\n",
    "\\frac{1}{n (n - 2) V_n} \\frac{1}{|x - y|^{n - 2}}, & n \\geq 3\\\\\n",
    "\\end{cases}\n",
    "$$"
   ]
  },
  {
   "cell_type": "markdown",
   "metadata": {},
   "source": [
    "#### Next objective:\n",
    "Obtain a formula for\n",
    "$$\n",
    "-\\Delta u = f\\ \\text{in}\\ \\Omega\\\\\n",
    "u = g\\ \\text{on}\\ \\partial \\Omega\n",
    "$$\n",
    "where $\\Omega \\subset R^n$, is a bounded, smooth domain (open connected set)"
   ]
  },
  {
   "cell_type": "markdown",
   "metadata": {},
   "source": [
    "Obtain Green's Representation Formula\n",
    "\n",
    "$u(x) = \\int_\\Omega G(x - y) f(y) dy + \\int_{\\partial \\Omega} g \\frac{\\partial G}{\\partial \\nu} d\\sigma$"
   ]
  },
  {
   "cell_type": "markdown",
   "metadata": {},
   "source": [
    "Does there exist $G(x, y)$ satisfying the above? Perron's method.\n",
    "We're only considering classical solutions for $u$ currently, $g$ is continuous"
   ]
  },
  {
   "cell_type": "markdown",
   "metadata": {},
   "source": [
    "Properties of harmonic functions in $\\Omega$ (will be used in proving uniqueness, boundedness, existence)\n",
    "\n",
    "Define: $u$ is a Harmonic function if $u \\in C^2(\\Omega)$ and $\\Delta u(x) = 0\\ \\forall x \\in \\Omega$\n",
    "\n",
    "The most important property of Harmonic functions is the Mean Value Property,\n",
    "\n",
    "#### Theorem 2.2.3:\n",
    "\n",
    "$x \\in \\Omega\\ B_r(x) \\subset \\Omega,\\ u\\ \\text{is harmonic} \\rightarrow u(x) = \\frac{1}{|\\partial B_r(x)|} \\int_{\\partial B_r(x)} u d\\sigma = \\frac{1}{|B_r(x)|} \\int_{B_r(x)} u dx$\n",
    "\n",
    "##### Proof\n",
    "$\\int_{B_r} \\Delta u dy = \\int_{\\partial B_r} \\frac{\\partial u}{\\partial r} d \\sigma = r^{n - 1} \\frac{d}{dr} \\int_{|\\sigma| = 1} u (x + r \\sigma) d \\sigma$\n",
    "\n",
    "The converse of Theorem 2.2.3 is also true.\n",
    "\n",
    "#### Theorem 2.2.4:\n",
    "If $u \\in C^0(\\Omega)$ and satisfies the MVP, then $u \\in C^{\\infty}(\\Omega), -\\Delta u = 0$\n",
    "\n",
    "##### Proof\n",
    "\n",
    "1) Start by showing $u \\in C^\\infty(\\Omega)$\n",
    "\n",
    "Consider a domain $\\Omega$ with $x \\in \\Omega$\n",
    "Let be a $\\eta$ mollifier, ie\n",
    "$$\n",
    "\\eta(x) =\n",
    "\\begin{cases}\n",
    "c_n e^{-\\frac{1}{|x|^2 - 1}}, & |x| \\leq 1\\\\\n",
    "0, & |x| > 1\n",
    "\\end{cases}\n",
    "$$\n",
    "This has compact support and $\\int_{R^n} \\eta(x) dx = 1$\n",
    "\n",
    "Then $\\eta_\\epsilon = \\epsilon^{-n} \\eta\\left(\\frac{|x|}{\\epsilon}\\right)$\n",
    "\n",
    "Then $u_\\epsilon(x) = \\int \\eta_\\epsilon(x - y) u(y) dy,\\ \\epsilon < d_0$\n",
    "\n",
    "Is this differentiable? $d(x, \\partial \\Omega) > 2 d_0$\n",
    "\n",
    "$u_\\epsilon \\in C^\\infty(\\{ d(x, \\partial \\Omega) > 2 d_0 \\}),\\ \\epsilon < d_0$\n",
    "\n",
    "Fix $x \\in \\Omega, d(x, \\partial \\Omega) > 2 d_0$\n",
    "\n",
    "$u_\\epsilon(x) = \\int_{|z| \\leq \\epsilon} \\eta_\\epsilon(z) u(x + z) dz = \\int_{r=0}^{\\epsilon} \\int_{|\\theta| = 1} \\epsilon^{-n}\\eta\\left(\\frac{r}{\\epsilon}\\right) u(x + r \\theta) r^{n - 1}d\\theta dr$\n",
    "$= \\epsilon^{-n} \\int_0^\\epsilon \\eta\\left(\\frac{r}{\\epsilon}\\right) \\left( \\int_{|\\theta|=1} u(x + r \\theta) d\\theta \\right) r^{n - 1} dr = w_n u(x) \\epsilon^{-n} \\int_{r=0}^\\epsilon \\eta\\left(\\frac{r}{\\epsilon}\\right) r^{n-1} dr = u(x) \\int \\eta_\\epsilon dr = u(x)$\n",
    "where $w_n = \\frac{|\\partial B_1|}{|B_1|}$"
   ]
  },
  {
   "cell_type": "markdown",
   "metadata": {},
   "source": [
    "2) Show $\\Delta u = 0$\n",
    "\n",
    "$r < \\frac{1}{2} d(x, \\partial \\Omega)$\n",
    "$\\int_{B_r(x)} \\Delta u d\\sigma = r^{n-1} \\frac{d}{dr} \\left( \\int_{|\\theta| = 1} u(x + r \\theta) d\\theta \\right)$\n",
    "\n",
    "Then by the mean value property, $\\int_{|\\theta| = 1} u(x + r \\theta) d \\theta = w_n u(x)$\n",
    "Then $\\int_{B_r(x)} \\Delta u = 0,\\ \\forall 0 < r < \\frac{1}{2} d(x, \\partial \\Omega) \\rightarrow \\Delta u(x) = 0$"
   ]
  },
  {
   "cell_type": "markdown",
   "metadata": {},
   "source": [
    "Thus, $u\\ \\text{is harmonic iff}\\ u \\in C^0(\\Omega),\\ u \\in C^\\infty(\\Omega)$ and the mean value property.\n",
    "\n",
    "Consequences of MVP:\n",
    "\n",
    "1) Gradient estimate:\n",
    "$\\Delta u = 0, B_R(x_0) \\subset \\Omega$, then $|\\nabla u(x_0)| \\leq \\frac{n}{R} \\max_{B_R(x_0)} |u|$\n",
    "\n",
    "##### Proof\n",
    "\n",
    "$u$ is harmonic $\\rightarrow u \\in C^\\infty$, so $\\Delta \\left(\\nabla_j u\\right) = 0$\n",
    "\n",
    "Then \n",
    "$$\\nabla_j u(x_0) = \\frac{1}{|B_R(x_0)|} \\int_{B_R(x_0)} \\nabla_j u = \\frac{1}{|B_R(x_0)|} \\int_{\\partial B_R(x_0)} u \\cdot \\nu_j d\\sigma$$\n",
    "and thus\n",
    "$$|\\nabla u(x_0)| \\leq \\frac{1}{|B_R|} \\int_{\\partial B_R(x_0)} |u| d \\sigma \\leq \\frac{|\\partial B_R|}{|B_R|} \\max_{\\partial B_R(x_0)} |u|$$"
   ]
  },
  {
   "cell_type": "markdown",
   "metadata": {},
   "source": [
    "#### Liouville Theorem\n",
    "$\\Delta u = 0$ in $R^n,\\ u \\geq 0 \\rightarrow u =$ Constant\n",
    "\n",
    "##### Proof\n",
    "\n",
    "$|\\nabla u(x_0)| \\leq \\frac{1}{|B_R(x_0)|} \\int_{\\partial B_R(x_0)} |u| d\\sigma = \\frac{1}{|B_R(x_0)|} \\int_{\\partial B_R(x_0)} u d \\sigma = \\frac{1}{|B_R(x_0)|} \\int_{\\partial B_R(x_0)} u d\\sigma \\leq \\frac{n}{R} u(x_0)$\n",
    "Then letting $R \\rightarrow \\infty$ completes the proof.\n",
    "\n",
    "#### Analyticity\n",
    "$\\Delta u = 0,\\ B_R(x_0) \\subset \\Omega \\rightarrow \\left| D^\\alpha u(x_0) \\right| \\leq \\frac{n^m e^{m - 1} m!}{R^m} \\max_{B_R(x_0)} |u|$, where $|\\alpha| = m$\n",
    "\n",
    "That is, $u$ is analytic. $|D^\\alpha u| \\leq C^m m!$\n",
    "\n",
    "##### Proof\n",
    "\n",
    "Induction, $m = 1$, gradient, suppose $|x| = m$, then it is true.\n",
    "\n",
    "$|D D^\\alpha u(x_0)| \\leq \\frac{n}{R} \\max_R |D^\\alpha u|$\n",
    "\n",
    "Fix a point $x \\in B_R(x_0)$, with $|x - x_0| = r$, then continue next time"
   ]
  },
  {
   "cell_type": "markdown",
   "metadata": {},
   "source": []
  },
  {
   "cell_type": "markdown",
   "metadata": {},
   "source": []
  },
  {
   "cell_type": "code",
   "execution_count": null,
   "metadata": {},
   "outputs": [],
   "source": []
  }
 ],
 "metadata": {
  "kernelspec": {
   "display_name": "Python 3",
   "language": "python",
   "name": "python3"
  },
  "language_info": {
   "codemirror_mode": {
    "name": "ipython",
    "version": 3
   },
   "file_extension": ".py",
   "mimetype": "text/x-python",
   "name": "python",
   "nbconvert_exporter": "python",
   "pygments_lexer": "ipython3",
   "version": "3.7.4"
  }
 },
 "nbformat": 4,
 "nbformat_minor": 2
}
