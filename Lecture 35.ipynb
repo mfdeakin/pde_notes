{
 "cells": [
  {
   "cell_type": "markdown",
   "metadata": {},
   "source": [
    "Recall from the first few lectures that we have the strong maximum principle\n",
    "$$\n",
    "\\Delta u = 0 \\in \\Omega \\rightarrow L u = a^{i, j} u_{i, j} + b_{j} u + c(x) u\n",
    "$$\n",
    "Implies the maximum principle by the Hopf bounded lemma and the Gradient Estimates by Bernstein's inequality\n",
    "Now we show the Harnack Inequality holds by the maximum principles\n",
    "\n",
    "# Theorem 1: Harnack Inequality\n",
    "$$\n",
    "L u = a^{i, j} u_{i, j} b_{j} u_{j} + c(x) u = 0\n",
    "$$\n",
    "\n",
    "Assume $u \\geq 0 \\in \\Omega$\n",
    "\n",
    "Then\n",
    "$$\n",
    "\\sup_{V} u \\leq C(V, \\Omega) \\inf_{V} u\\\\\n",
    "\\forall V \\subset \\subset \\Omega\n",
    "$$\n",
    "\n",
    "## Proof\n",
    "Assume that $u > 0$ by the strong maximum principle\n",
    "For simplicity, assume $b_j = c(x) = 0$.\n",
    "If we have two points $x_1$ and $x_2$, the Harnack inequality shows that these two points should be comparable, ie\n",
    "$$\n",
    "\\frac{1}{C} \\leq \\frac{u(x_2)}{u(x_1)} \\leq C\n",
    "$$\n",
    "If $|\\nabla \\log(u)| \\leq C$, then $\\log(u(x_2)) - \\log(u(x_1)) = \\left| \\int_{x_1}^{x_2} D \\log u \\right| \\leq C$, and the integral is bounded, then the fraction should be bounded above and below as well.\n",
    "\n",
    "Need to prove: Interior gradient bound by $|\\nabla \\log(u)|^2 = w$\n",
    "\n",
    "Equation for $w$: $v = \\log(u) \\rightarrow$ $u = e^v$, $u_i = e^v v_i$, $u_{i, j} = e^v v_{i, j} + e^v v_i v_j$\n",
    "\n",
    "$a^{i, j} u_{i, j} = 0 \\leftarrow \\rightarrow a^{i, j} v_{i, j} + a^{i, j} v_i v_j = 0$ is the Hamilton-Jacobi equation, $\\Delta v + |\\nabla v|^2 = 0$.\n",
    "So we have an equation for $v = \\log(u)$:\n",
    "$a^{i, j} v_{i, j} + a^{i, j} v_{i} v_{j} = 0$\n",
    "Since $a^{i, j}$ is elliptic, we can estimate $w$ by taking the Laplace of it.\n",
    "$$\n",
    "w = a^{i, j} v_{i} v_{j}\\\\\n",
    "w_{k} = a^{i, j}_{k} v_{i} v_{j} + a^{i, j} v_{i, k} v_{j} + a^{i, j} v_{j, k} v_{i}\\\\\n",
    "w_{k, l} = a^{i, j}_{k, l} v_{i} v_{j} + a^{i, j}_{l} v_{i, k} v_{j} + a^{i, j}_{l} v_{j, k} v_{i}\n",
    "  + a^{i, j}_{k} v_{i, l} v_{j} + a^{i, j} v_{i, k, l} v_{j} + a^{i, j} v_{j, k, l} v_{i}\n",
    "  + a^{i, j}_{k} v_{i} v_{j, l} + a^{i, j} v_{i, k} v_{j, l} + a^{i, j} v_{j, k} v_{i, l}\\\\\n",
    "a^{k, l} w_{k, l} = R + a^{k, l} a^{i, j} v_{i, k, l} v_{j} + a^{k, l} a^{i, j} v_{i, k} v_{j, l} + a^{k, l} a^{i, j} v_{j, k, l} v_{i}\\\\\n",
    "a^{i, j} (a^{k, k} v_{k, l, i} v_{j} + a^{k, l} v_{k, l, j} v_{i})\\\\\n",
    "w_i - a_i^{k, l} v_{k, l} v_{j}\\\\\n",
    "a^{k, l} w_{k, l} = \\tilde{b}_{j} w_{j} + a^{k, l} a^{i, j} v_{i, k} v_{j, l} + O(|v_{k, l}| |v_{j}| + |\\nabla v|^2)\\\\\n",
    "a^{k, l} w_{k, l} - \\tilde{b}_j w_{j} \\geq \\frac{\\theta}{2} |v_{i, k}|^2 - C |\\nabla v|^2\\\\\n",
    "|\\nabla v|^2 \\approx C w^2\n",
    "a^{k, l} w_{k, l} - \\tilde{b}_j w_{j} \\geq \\frac{\\theta}{2} |v_{i, k}|^2 - C w^2\\\\\n",
    "z = \\eta^4 w \\text{ want to compute the maximum, which is at least } 0\\\\\n",
    "\\nabla z(x_0) = 4 \\nabla \\eta(x_0) w + \\eta(x_0) \\nabla w(x_0) = 0\\\\\n",
    "\\nabla w(x_0) = -\\frac{4}{\\eta} \\nabla \\eta w\\\\\n",
    "a^{k, l} z_{k, l} = a^{k, l} (\\eta^4 w)_{k, l} = \\eta^4 a^{k, l} w_{k, l} + a^{k, l} \\eta^3 \\eta_k w_l + a^{k, l} \\eta^2 \\eta_{k, l} w\\\\\n",
    "a^{k, l} z_{k, l} \\geq -\\eta^4 |\\nabla w| \\leq \\eta^{4} \\tilde{b}_j w_j - \\eta^3 |\\nabla w| |\\nabla \\eta| - \\eta^2 |\\nabla^2 \\eta| |w| + \\frac{\\theta}{2} |v_{i, k}|^2 \\eta^4 - c \\eta^4 w^2\n",
    "  \\geq -\\eta^3 w - \\eta^3 w - \\eta^2 |w| - C \\eta^4 w + \\frac{\\theta}{2} |v_{i, k}|^2 \\eta^4\n",
    "  \\geq C \\eta^4 w^2 - C \\eta^3 w - C \\eta^2 w\\\\\n",
    "  \\geq C \\eta^4 w^2 - C \\eta^2 w\\\\\n",
    "  \\eta^2 w \\leq C \\rightarrow w \\leq C\\\\\n",
    "  C_1 \\eta^4 w^2 \\leq C_2 \\eta^2 w \\rightarrow \\eta^2 w \\leq C\n",
    "$$\n",
    "This proves the estimate somehow\n",
    "\n",
    "This kind of estimate: $4 \\nabla \\eta(x_0) w + \\eta(x_0) \\nabla w(x_0) = 0$ is used infinitely many times, the famous Li-Yau estimate is exactly this\n",
    "Compute the Laplace equation for $|\\nabla \\log(u)|^2 = w$, use a corner estimate and get a bound for $v$"
   ]
  },
  {
   "cell_type": "markdown",
   "metadata": {},
   "source": [
    "Nonlinear Version of Harnack's Inequality\n",
    "$$\n",
    "\\Delta u + u - u^3 = 0\\\\\n",
    "I[u] = \\frac{1}{2} \\int |\\nabla u|^2 + \\int \\frac{1}{4} (1 - u^2)^2\\\\\n",
    "u'' + u - u^3 = 0 \\leftarrow \\rightarrow \\frac{u'^2}{2} = \\frac{1}{4} (1 - u^2)^2\n",
    "$$\n",
    "\n",
    "# Theorem: Modice's Estimate\n",
    "$n \\geq 2$, $\\frac{1}{2} |\\nabla u|^2 \\leq \\frac{1}{4} (1 - u^2)^2$ holds pointwise"
   ]
  },
  {
   "cell_type": "markdown",
   "metadata": {},
   "source": [
    "End of course, covered classical solutions, Sobolev spaces, weak solutions, Evans, Han and Lin\n",
    "\n",
    "Final Presentation, any time before December 20th, send an email to schedule, max time of 1 hour to\n",
    "\n",
    "Office hours - all the time except next Thursday and Friday"
   ]
  }
 ],
 "metadata": {
  "kernelspec": {
   "display_name": "Python 3",
   "language": "python",
   "name": "python3"
  },
  "language_info": {
   "codemirror_mode": {
    "name": "ipython",
    "version": 3
   },
   "file_extension": ".py",
   "mimetype": "text/x-python",
   "name": "python",
   "nbconvert_exporter": "python",
   "pygments_lexer": "ipython3",
   "version": "3.7.5"
  }
 },
 "nbformat": 4,
 "nbformat_minor": 2
}
