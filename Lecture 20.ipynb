{
 "cells": [
  {
   "cell_type": "markdown",
   "metadata": {},
   "source": [
    "# Sobolev Inequality\n",
    "\n",
    "## Theorem 1\n",
    "$$\n",
    "u \\in C_0^\\infty(R^n) \\rightarrow ||u||_{L^{\\frac{n}{n - 1}}} \\leq ||D u||_{L^1}\n",
    "$$\n",
    "### Proof\n",
    "$$\n",
    "||u(x_i)|| \\leq \\int_{-\\infty}^{\\infty} |D_j u| dx_j\\\\\n",
    "|u|^{\\frac{n}{n - 1}} \\leq \\left( \\int |D u| dy_1 \\right)^{\\frac{1}{n - 1}} \\ldots \\left( \\int |D u| dy_1 \\right)^{\\frac{1}{n - 1}}\\\\\n",
    "\\int |u|^{\\frac{n}{n - 1}} dx_1 \\leq \\left( \\int |D u| dy_1 \\right)^{\\frac{1}{n - 1}} \\int \\left[\\left( \\int |D u| dy_2 \\right)^{\\frac{1}{n - 1}} \\ldots \\left( \\int |D u| dy_1 \\right)^{\\frac{1}{n - 1}} \\right] dx_1\n",
    "$$\n",
    "\n",
    "Then we use the generalize Holder inequality\n",
    "\n",
    "$$\n",
    "\\int f_1 \\ldots f_{n - 1} \\leq ||f_1||_{L^{p_1}} \\ldots ||f_{n - 1}||_{L^{p_{n - 1}}}\\\\\n",
    "\\sum_i \\frac{1}{p_i}= 1\\\\\n",
    "$$\n",
    "\n",
    "$$\n",
    "\\int |u|^{\\frac{n}{n - 1}} dx_1\n",
    "\\leq \\left( \\int |D u| dy_1 \\right)^{\\frac{1}{n - 1}} \\int \\left[\\left( \\int |D u| dy_2 \\right)^{\\frac{1}{n - 1}} \\ldots \\left( \\int |D u| dy_1 \\right)^{\\frac{1}{n - 1}} \\right] dx_1\\\\\n",
    "\\leq \\left( \\int |D u| dy_1 \\right)^{\\frac{1}{n - 1}} \\left(\\int \\int |D u| dy_2 dx_1 \\right)^{\\frac{1}{n - 1}} \\ldots \\left(\\int \\int |D u| dy_n dx_1 \\right)^{\\frac{1}{n - 1}}\\\\\n",
    "\\leq \\left(\\int \\int |D u| dy_2 dx_1 \\right)^{\\frac{1}{n - 1}} \\left(\\int \\int |D u| dy_1 dx_2 \\right)^{\\frac{1}{n - 1}} \\left(\\int \\int \\int |D u| dy_3 dx_1 dx_2 \\right)^{\\frac{1}{n - 1}} \\ldots \\left(\\int \\int \\int |D u| dy_n dx_1 dx_2 \\right)^{\\frac{1}{n - 1}}\\\\\n",
    "\\int \\int \\int |u|^{\\frac{n}{n - 1}} dx_1 dx_2 \\leq \\left( \\int \\int \\int |D u| dy_3 dx_1 dx_2 \\right)^{\\frac{1}{n - 1}} \\left[ \\int \\ldots dx_3 \\right]\\\\\n",
    "\\int \\ldots \\int |u|^{\\frac{n}{n - 1}} dx_1 dx_2 \\ldots dx_n \\leq \\left(\\int \\ldots \\int |D u| dx_1 \\ldots dx_n \\right)^{\\frac{n}{n - 1}}\n",
    "$$\n",
    "completing our proof"
   ]
  },
  {
   "cell_type": "markdown",
   "metadata": {},
   "source": [
    "## Theorem 2\n",
    "$$\n",
    "u \\in C^\\infty_0(R^n) \\rightarrow ||u||_{L^{\\frac{n p}{n - p}} \\leq C || D u ||_{L^p}\n",
    "$$\n",
    "\n",
    "### Proof\n",
    "Fix $\\gamma > 1$\n",
    "Then\n",
    "$$\n",
    "\\int |u|^\\gamma \\leq \\left( \\int |D |u|^\\gamma| \\right)^{\\frac{n}{n - 1}}\\\\\n",
    "                \\leq \\left( \\int \\gamma |u|^{\\gamma - 1} |D |u|| \\right)^{\\frac{n}{n - 1}}\\\\\n",
    "                \\leq C \\left( ||u||_{L^q}^{\\gamma - 1} ||D u||_{L^p} \\right)^{\\frac{n}{n - 1}}\n",
    "$$\n",
    "Choose $\\gamma$ s.t. $\\gamma \\frac{n}{n - 1} = (\\gamma - 1) q = (\\gamma - 1) \\frac{p}{p - 1}$;\n",
    "ie $\\gamma = \\frac{n p}{n - p}$\n",
    "\n",
    "### Scaling argument\n",
    "If $||u||_L^\\nu$\n",
    "see picture"
   ]
  },
  {
   "cell_type": "markdown",
   "metadata": {},
   "source": [
    "## Theorem 3\n",
    "Consider\n",
    "$$\n",
    "u \\in W^{1, p}(U)$ and $\\partial U \\in C^1$\n",
    "$$\n",
    "Then\n",
    "$$\n",
    "||u||_{L^{\\frac{n p}{n - p}}(U)} \\leq C ||u||_{W^{1, p}(U)}\n",
    "$$\n",
    "\n",
    "### Proof\n",
    "$\\partial u \\in C^1$, $u$ can be extended to $E u$, $||E u||_{W^{1, p}(R^n)} \\leq C ||u||_{W^{1, p}(U)}$\n",
    "Then\n",
    "$$\n",
    "\\exists u_m \\in C_0^\\infty(R^n) \\text{ s.t. }\n",
    "||u_m - E u||_{W^{1, p}(R^n)} \\rightarrow 0\\\\\n",
    "||u_m||_{L^{\\frac{n p}{n - p}}(R^n)} \\leq C ||D u_m||_{L^p} \\leq C ||u||_{W^{1, p}(U)}\\]\\\n",
    "||u_m - u_l||_{L^{\\frac{n p}{n - p}}} \\leq C ||D u_m - D u_l||_{L^p}\\\\\n",
    "u_m \\rightarrow \\bar{u} \\in L^{\\frac{n p}{n - p}}(R^n)\n",
    "u_m \\rightarrow E u = u, x \\in U\\\\\n",
    "||u||_{L^{\\frac{n p}{n - p}}(U)} \\leq C ||u||_{W^{1, p}(U)}\n",
    "$$"
   ]
  },
  {
   "cell_type": "markdown",
   "metadata": {},
   "source": [
    "## Corollary 1\n",
    "If\n",
    "$$\n",
    "\\partial U \\in C^1, u \\in W^{1, p}(U)\n",
    "$$\n",
    "Then\n",
    "$$\n",
    "||u||_{L^q(U)} \\leq C ||u||_{W^{1, p}(U)}, 1 \\leq q \\leq \\frac{n p}{n - p}\\\\\n",
    "W^{1, p}(U) \\rightarrow L^q(U) \\text{ embedded, continuous }\n",
    "$$"
   ]
  },
  {
   "cell_type": "markdown",
   "metadata": {},
   "source": [
    "## Theorem 4\n",
    "$$\n",
    "u \\in W_0^{1, p}(U) \\rightarrow ||u||_{L^{\\frac{n p}{n - p}}(U)} \\leq C ||D u_m||_{L^p(U)}\n",
    "$$\n",
    "\n",
    "### Proof\n",
    "$$\n",
    "||u_m||_{L^{\\frac{n p}{n - p}}(U)} \\leq C ||D u_m||_{L^p(U)}, u_m \\in C_0^\\infty(U)\n",
    "$$"
   ]
  },
  {
   "cell_type": "markdown",
   "metadata": {},
   "source": [
    "## Corollary 2\n",
    "$$\n",
    "u \\in W_0^{1, p}(U) \\rightarrow ||u||_{L^p(u) \\leq C ||D u||_{L^p(U)}\n",
    "$$\n",
    "\n",
    "### Proof\n",
    "$$\n",
    "||u||_{L^p} \\leq C ||u||_{L^{\\frac{n p}{n - p}}}\n",
    "$$"
   ]
  },
  {
   "cell_type": "markdown",
   "metadata": {},
   "source": [
    "## Corollary 3\n",
    "$$\n",
    "W_0^{1, p}(U), ||u||_1 = ||D u||_{L^p}\n",
    "$$\n",
    "can be used as an equivalent norm\n",
    "$$\n",
    "||D u||_{L^p} \\leq ||u||_{W_0^{1, p}(\\Omega)} \\leq C ||D u||_{L^p}\n",
    "$$\n",
    "\n",
    "$$\n",
    "p < n \\rightarrow ||u||_{L^{\\frac{n p}{n - p}}(U)} \\leq C ||u||_{W^{1, p}(U)}\\\\\n",
    "p = n \\rightarrow\n",
    "\\begin{cases}\n",
    "n = 1, & ||u||_{L^\\infty} \\leq C ||u||_{W^{1, 1}\\\\\n",
    "n \\geq 2, & \\text{ Not True, } ||u|| \\leq C ||u||\n",
    "\\end{cases}\\\\\n",
    "p > n\\\\\n",
    "$$\n",
    "$$\n",
    "\\forall q < \\infty\\\\\n",
    "\\begin{cases}\n",
    "n = 2, ||u||_{L^q} \\leq \\frac{c}{q} ||u||_{W^{1, 2}}\\\\\n",
    "n = 1, |u(x) - u(y)| = \\left| \\int_y^x u' \\right| \\leq ||D u||_{L^p} |x - y|^{1 - \\frac{1}{p}}\n",
    "\\end{cases}\n",
    "$$"
   ]
  },
  {
   "cell_type": "markdown",
   "metadata": {},
   "source": [
    "## Theorem 5 (Morrey's Estimate)\n",
    "$$\n",
    "u \\in W^{1, p}(R^n) \\rightarrow ||u||_{C^\\gamma} = ||u||_{L^\\infty} + \\sup_{x \\neq y} \\frac{|u(x) - u(y)|}{|x - y|^\\gamma} \\leq C ||u||_{W^{1, p}(R^n)}, \\gamma = -\\frac{n}{p}\n",
    "$$\n",
    "\n",
    "### Proof\n",
    "Fix $|w| = 1$\n",
    "Then\n",
    "$$\n",
    "u(x + sw) - u(x) = \\int_{0}^{s} (D u(x + t w) \\cdot w) dt \\leq \\int_0^s |D u(x + t w)| dt\\\\\n",
    "\\int_{\\partial B_1} |u(x + s w) - u(x)| dS(w) \\leq \\int_{\\partial B_1} \\int_0^s |D u(x + t w)| dt d\\sigma\n",
    "$$\n",
    "Apply Fubini's Theorem\n",
    "$$\n",
    "\\int_0^s int_{\\partial B_1} |D u(x + t w)| d\\sigma dt\n",
    "  = \\int_0^s \\int_{\\partial B_t(w)} \\frac{|D u(x + t w)|}{t\n",
    "$$"
   ]
  },
  {
   "cell_type": "markdown",
   "metadata": {},
   "source": []
  },
  {
   "cell_type": "markdown",
   "metadata": {},
   "source": []
  },
  {
   "cell_type": "markdown",
   "metadata": {},
   "source": []
  },
  {
   "cell_type": "markdown",
   "metadata": {},
   "source": []
  }
 ],
 "metadata": {
  "kernelspec": {
   "display_name": "Python 3",
   "language": "python",
   "name": "python3"
  },
  "language_info": {
   "codemirror_mode": {
    "name": "ipython",
    "version": 3
   },
   "file_extension": ".py",
   "mimetype": "text/x-python",
   "name": "python",
   "nbconvert_exporter": "python",
   "pygments_lexer": "ipython3",
   "version": "3.7.4"
  }
 },
 "nbformat": 4,
 "nbformat_minor": 2
}
