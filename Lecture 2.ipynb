{
 "cells": [
  {
   "cell_type": "markdown",
   "metadata": {},
   "source": [
    "Last time we discussed Representation Formula for first order PDEs (linear)\n",
    "$$\n",
    "\\begin{cases}\n",
    "u_t + \\sum_{j=1}^n b_j u_{x_j} = f(x, t)\\\\\n",
    "u(x, 0) = g(x)\n",
    "\\end{cases}\n",
    "$$"
   ]
  },
  {
   "cell_type": "markdown",
   "metadata": {},
   "source": [
    "### 2.2 Laplace Equation\n",
    "$$-\\Delta u(x) = f(x),\\ f(x) \\in C_C^{\\infty} (R^n)$$\n",
    "Aim: If $u$ is bounded, then $u(x) = \\int_{R^n} \\phi(|x - y|) f(y) dy + C$\n",
    "where\n",
    "$$\n",
    "\\phi(r) =\n",
    "\\begin{cases}\n",
    "-\\frac{1}{2} r & n = 1\\\\\n",
    "\\frac{1}{2 \\pi} \\log(\\frac{1}{r}) & n = 2\\\\\n",
    "\\frac{1}{n(n-2) \\alpha_n \\gamma^{n - 2}} & n \\geq 3\n",
    "\\end{cases}\n",
    "$$\n",
    "and $\\alpha_n = |B_1(0)|$, $n \\alpha_n = \\omega_n = |\\partial B_1(0)|$"
   ]
  },
  {
   "cell_type": "markdown",
   "metadata": {},
   "source": [
    "#### Step 1\n",
    "$V(x) = \\int_{R^n} \\phi(|x - y|) f(y) dy$\n",
    "satisfies $-\\Delta V(x) = f(x)$ pointwise.\n",
    "\n",
    "#### Step 2\n",
    "$-\\Delta (u - v) = 0$, where $u - v$ is bounded, then $u - v = C$\n",
    "##### Remark:\n",
    "1) $|v| \\leq C$, so $\\int_{B_1(x)} |\\phi(|x - y|) dy = \\left( \\int_0^1 \\phi(r) r^{n-1} dr \\right) \\omega_n < \\infty$\n",
    "\n",
    "Then $|v(x)| = \\int_{B_1(x)} \\phi(x - y) f(y) dy + \\int_{B_1^C(x)} \\phi(x - y) f(y) dy < \\infty$\n",
    "\n",
    "Then $v(x) = \\int \\phi(|z|) f(x - z) dz$ by the same argument as in 1)\n",
    "\n",
    "Thus $v \\in C^\\infty$"
   ]
  },
  {
   "cell_type": "markdown",
   "metadata": {},
   "source": [
    "#### Theorem 2.2.1\n",
    "$v(x) = \\int \\phi(x - y) f(y) dy$ satisfies $\\Delta v(x) = f(x)$.\n",
    "\n",
    "Proof:\n",
    "$\\Delta v(x) = \\int \\phi(z) \\Delta_x f(x - z) dz$\n",
    "Assume $n \\geq 3$, ($n = 2$ is our homework)\n",
    "\n",
    "Green's 2nd Identity\n",
    "$\\int_\\Omega u \\Delta v - v \\Delta u) = \\int_{\\partial \\Omega} u \\frac{\\partial v}{\\partial \\nu} - v \\frac{\\partial u}{\\partial \\nu}$\n",
    "\n",
    "where $u, v \\in C^2(\\Omega)$\n",
    "\n",
    "So $\\Delta v(x) = \\int \\phi(z) \\Delta_x f(x - z) dz = \\int \\phi(z) \\Delta_z f(x - z) dz$\n",
    "\n",
    "Formally, $\\Delta v(x) = \\int_{B_R(0)} \\phi(z) \\Delta_z f(x - z) dz =? \\int_{B_R(0)} f(x - z) \\Delta_z \\phi(z) dz + \\int_{\\partial B_R(0)} \\phi \\frac{\\partial f(x - z)}{\\partial v} - f(x - z) \\frac{\\partial \\phi}{\\partial \\nu} =? \\int_{B_R(0)} f(x - z) \\Delta_z \\phi(z) dz$\n",
    "\n",
    "Then the boundary integral goes to $0$ when the radius is large, since we have compact support."
   ]
  },
  {
   "cell_type": "markdown",
   "metadata": {},
   "source": [
    "$supp(f) \\subset B_R(0)$\n",
    "\n",
    "Then\n",
    "$\\phi = \\frac{c_n}{\\gamma^{n - 2}}$\n",
    "\n",
    "$\\Delta \\phi = \\phi_{rr} + \\frac{n - 1}{\\gamma} \\phi_\\gamma + \\frac{1}{\\gamma^2} \\Delta_{S^{n - 1}} \\phi$\n",
    "\n",
    "But this all assumes that $\\phi \\in C^2(\\Omega)$, which isn't true. So the standard trick is to compute $\\int_{B_R(0) \\setminus B_\\epsilon(0)} \\phi(z) \\Delta f(x - z) dz + \\int_{\\partial(B_R \\setminus B_\\epsilon)} \\left(f(x - z) \\frac{\\partial \\phi}{\\partial \\nu} - \\phi \\frac{\\partial f}{\\partial \\nu}\\right) d\\sigma = \\int_{\\partial B_\\epsilon(0)} \\left( -f(x - z) \\frac{\\partial \\phi}{\\partial \\nu} + \\phi \\frac{\\partial f}{\\partial \\nu} \\right)d\\sigma$."
   ]
  },
  {
   "cell_type": "markdown",
   "metadata": {},
   "source": [
    "$$\n",
    "\\int_{\\partial B_\\epsilon(0)} \\left| \\phi(z) \\frac{\\partial f}{\\partial \\nu} \\right|\n",
    "\\leq C \\int_{\\partial B_{\\epsilon}(0)} |\\phi(z)| d\\sigma\n",
    "\\leq \\int_{\\partial B_{\\epsilon}(0)} \\frac{1}{\\epsilon^{n - 2}} d \\sigma\n",
    "\\leq \\epsilon \\rightarrow 0\n",
    "$$"
   ]
  },
  {
   "cell_type": "markdown",
   "metadata": {},
   "source": [
    "Then $v(x) = \\int_{R^n} \\phi(x - y) f(y) dy \\rightarrow -\\Delta v(x) = f(x), v \\in C^\\infty$.\n",
    "Thus, this solves the equation."
   ]
  },
  {
   "cell_type": "markdown",
   "metadata": {},
   "source": [
    "#### Step 2\n",
    "\n",
    "Suppose $-\\Delta v(0) = f(x)$\n",
    "Then $w = u - v \\rightarrow -\\Delta w(x) = 0$ is a Harmonic function.\n",
    "\n",
    "Now we need to show that $w$ is a constant.\n",
    "\n",
    "##### Claim\n",
    "\n",
    "If $u$ is bounded and $C^2$, then $w = \\text{Constant}$\n",
    "\n",
    "If a harmonic function is bounded, then it is constant. Maximum modulus principle in Complex Analysis; or\n",
    "\n",
    "##### Theorem 2.2.2 (Mean value property)\n",
    "\n",
    "Take any ball centered at $x$\n",
    "$-\\Delta w(x) = 0 \\rightarrow \\frac{1}{|\\partial B_R(x)|} \\int_{\\partial B_R(x)} w d\\sigma$\n",
    "Then we finish with a trivial integration by parts.\n",
    "\n",
    "###### Proof\n",
    "WLOG, let $x = 0$.\n",
    "Then just compute $0 = \\int_{B_r(0)} \\Delta w dx = \\int_{\\partial B_r(0)} \\frac{\\partial w}{\\partial r} d\\sigma$\n",
    "\n",
    "On $\\partial B_r(0)$, $|y| = r \\vec{\\theta}$, with $|\\vec{\\theta}| = 1$, and $d \\sigma = r^{n - 1} d \\vec{\\theta}$\n",
    "\n",
    "Then $0 = r^{n - 1} \\int_{|\\theta| = 1} \\frac{\\partial w}{\\partial r}(r \\vec{\\theta}) d\\sigma = \\frac{\\partial}{\\partial r} \\int_{|\\vec{\\theta}| = 1} w(r \\theta) d \\sigma$.\n",
    "\n",
    "Then $\\int_{|\\vec{\\theta}|} w(r \\theta) d \\sigma$ is independent of $r$.\n",
    "\n",
    "Then $\\int_{|\\vec{\\theta}|} w(r \\theta) d\\theta = w(0) w_n$.\n",
    "\n",
    "Thus $w(0) = \\frac{1}{\\gamma^{n - 1} w_n} \\gamma^{n - 1} \\int_{|\\vec{\\theta}|} w(r \\theta) d \\theta = \\frac{1}{|\\partial B_\\gamma(0)} \\int_{\\partial B_\\gamma(0)} w d\\sigma$, completing the proof.\n",
    "\n",
    "Proof of the claim $-\\Delta w(x) = 0 \\rightarrow -\\Delta \\frac{\\partial w}{\\partial x_j} = 0$\n",
    "Then by the mean value property (MVP), $\\frac{\\partial w}{\\partial x_j} = \\frac{1}{|B_R(x)|} \\int_{B_R(x)} \\frac{\\partial w}{\\partial x_j} = \\frac{1}{|B_R(x)|} \\int_{\\partial B_R(x)} w \\cdot v_j$\n",
    "\n",
    "Then $\\left| \\frac{\\partial w}{\\partial x_j} \\right| \\leq \\frac{C}{R6n} \\int_{\\partial B_R} \\left| w v_j \\right| d\\sigma \\leq \\frac{C}{R^n} \\subset R^{n - 1} \\rightarrow 0$ as $R \\rightarrow \\infty$"
   ]
  },
  {
   "cell_type": "code",
   "execution_count": null,
   "metadata": {},
   "outputs": [],
   "source": []
  }
 ],
 "metadata": {
  "kernelspec": {
   "display_name": "Python 3",
   "language": "python",
   "name": "python3"
  },
  "language_info": {
   "codemirror_mode": {
    "name": "ipython",
    "version": 3
   },
   "file_extension": ".py",
   "mimetype": "text/x-python",
   "name": "python",
   "nbconvert_exporter": "python",
   "pygments_lexer": "ipython3",
   "version": "3.7.4"
  }
 },
 "nbformat": 4,
 "nbformat_minor": 2
}
