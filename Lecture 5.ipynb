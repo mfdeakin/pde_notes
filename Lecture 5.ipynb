{
 "cells": [
  {
   "cell_type": "markdown",
   "metadata": {},
   "source": [
    "### Properties of Harmonic Functions\n",
    "\n",
    "1) Gradient estimates\n",
    "\n",
    "2) Analyticity\n",
    "\n",
    "3) Harnack Inequality\n",
    "\n",
    "Given $\\Delta u$ = 0$, $u \\geq 0$ for $x \\in \\Omega$\n",
    "\n",
    "we have $\\frac{1}{c} u(y) \\leq u(x) \\leq c u(y)$ for some $c \\in R$, x \\neq y$\n",
    "\n",
    "$c$ only depends on the dimension of the space and the distance to the boundary $d(x, \\partial \\Omega)$, $d(y, \\partial \\Omega)$.\n",
    "\n",
    "4) Maximum principle"
   ]
  },
  {
   "cell_type": "markdown",
   "metadata": {},
   "source": [
    "### Consequences\n",
    "\n",
    "#### 1)\n",
    "\n",
    "Let $\\{ u_k \\}$ be a sequence of Harmonic functions, so $\\Delta u_k = 0$ in $\\Omega$. Suppose $|u_k| \\leq 1$. Fix $\\Omega' \\subset \\Omega, \\Omega'$ is compact s.t. $\\exists $ subsequence s.t. $\\{ u_{k_j} \\}_j$ converges to a harmonic function.\n",
    "\n",
    "Gradient estimates + Arzela-Ascoli's Theorem ensure this, as $|\\nabla u_k| \\leq \\frac{n}{R} \\max_{B_R} |u|$.\n"
   ]
  },
  {
   "cell_type": "markdown",
   "metadata": {},
   "source": [
    "#### 2)\n",
    "\n",
    "$u_k$, harmonic and bounded in $\\Omega$\n",
    "\n",
    "Suppose $u_k(y_0) \\rightarrow u(y_0)$, then $u_k(x) \\rightarrow u(x)$ in $\\Omega$ and uniformly in $\\Omega'$ with $y_0 \\in Omega'$\n",
    "\n",
    "$\\forall \\epsilon > 0, \\exists N$ s.t. $\\forall m > n > N, 0 < u_m(y_0) - u_n(y_0) < \\epsilon$\n",
    "\n",
    "$\\Delta (u_m - u_n) = 0, 0 \\leq u_m(x) - u_n(x) \\leq C (u_m(y_0) - u_n(y_0)) < c \\epsilon$\n",
    "\n",
    "Going back to the Dirichlet boundary value problem, we have\n",
    "\n",
    "$$\n",
    "\\begin{cases}\n",
    "-\\Delta u = f, & x \\in \\Omega\\\\\n",
    "u = g & x \\in \\partial \\Omega\n",
    "\\end{cases}\n",
    "$$\n",
    "\n",
    "We already know this  has a unique solution by the maximum principle.\n",
    "\n",
    "Then let $\\Phi(x - y)$ be the fundamental solution, ie $u(x) = \\int_\\Omega \\phi(x - y) f(y) dy$ solves the Laplace equation.\n",
    "When $\\Omega = R^n, f \\in C_c^\\infty(R^n), -\\Delta v = f(x)$\n",
    "\n",
    "When $\\Omega$ is a bounded, smooth, domain in $R^n$, follow the same proof in lecture 1.\n",
    "\n",
    "$$\n",
    "\\Delta v(x) = \\lim_{\\epsilon \\rightarrow 0} \\int_{\\Omega \\setminus B_\\epsilon} \\Phi(z) \\Delta f(x - z) dz\n",
    "$$\n",
    "\n",
    "Performing the same computation of this quantity, using Green's identity, we have\n",
    "\n",
    "$$\n",
    "\\Delta v(x) = \\lim_{\\epsilon \\rightarrow 0} \\int_{\\Omega \\setminus B_\\epsilon} \\Delta \\Phi(z) f(x - z) dz + \\int_{\\partial(\\Omega \\setminus B_\\epsilon)} \\phi \\frac{\\partial f}{\\partial \\nu} - f \\frac{\\partial \\phi}{\\partial \\nu}\n",
    "$$\n",
    "\n",
    "The first term goes to zero, so we just have\n",
    "$$\n",
    "\\Delta v(x) = \\lim_{\\epsilon \\rightarrow 0} \\int_{\\partial \\Omega} \\left[ \\phi(x - y) \\frac{\\partial f}{\\partial \\nu}(y) - f(x - y) \\frac{\\partial \\phi}{\\partial \\nu}(y) \\right] dy - \\int_{\\partial B_\\epsilon} \\left[ \\phi(z) \\frac{\\partial f}{\\partial \\nu}(x - z) - f(x - z) \\frac{\\partial \\phi}{\\partial \\nu}(z) \\right] dz\n",
    "$$\n",
    "As $\\epsilon \\rightarrow 0$, we are just left with $f(x)$\n",
    "\n",
    "Let $\\phi^x(y)$ be a solution to\n",
    "$$\n",
    "\\Delta_y \\phi^x = 0, & \\text{ in } \\Omega\\\\\n",
    "\\phi^x(y) = \\Phi(x - y), & \\text{ on } \\partial \\Omega\n",
    "\n",
    "Then\n",
    "$$\n",
    "\\int_\\Omega u \\Delta \\phi^x - \\phi^x \\Delta u = \\int_{\\partial \\Omega} u \\frac{\\partial \\phi^x}{\\partial \\nu} - \\phi^x \\frac{\\partial u}{\\partial \\nu}\\\\\n",
    "\\text{Equation 1: } \\int_{\\Omega} \\phi^x(y) f(y) dy = \\int_{\\partial \\Omega} g \\frac{\\partial \\phi^x}{\\partial \\nu} - \\Phi(x - y) \\frac{\\partial u}{\\partial \\nu}\n",
    "$$\n",
    "\n",
    "As $\\epsilon \\rightarrow 0$, we know\n",
    "Equation 2: $-\\int_\\Omega \\Phi(x - y) f(y) dy = \\int_{\\partial \\Omega} u \\frac{\\partial \\Phi}{\\partial \\nu} - \\Phi \\frac{\\partial  u}{\\partial \\nu} + u(z)$\n",
    "Then subtracting 1 from 2 gives us\n",
    "$$\n",
    "\\int_\\Omega \\left[ \\Phi(x - y) - \\phi^x(y) \\right] f(y) dy = \\int_{\\partial \\Omega} g \\frac{\\partial \\left(\\Phi - \\phi^x \\right)}{\\partial \\nu} + u(x)\n",
    "$$\n",
    "Then $G(x, y) = \\Phi(x - y) - \\phi^x(y)$\n"
   ]
  },
  {
   "cell_type": "markdown",
   "metadata": {},
   "source": [
    "### Theorem 2.2.6\n",
    "$$\n",
    "\\begin{cases}\n",
    "-\\Delta u = f, & x \\in \\Omega\\\\\n",
    "u = g, & x \\in \\partial \\Omega\n",
    "\\end{cases}\n",
    "$$\n",
    "If $G(x, y)$ exists, then\n",
    "$u(x) = \\int_\\Omega G(x, y) f(y) dy - \\int_{\\partial \\Omega} g \\frac{\\partial G}{\\partial \\nu} d\\sigma$\n",
    "\n",
    "#### Proof\n",
    "\n",
    "Let $\\phi^x(y)$ be a solution to\n",
    "$$\n",
    "\\begin{cases}\n",
    "\\Delta_y \\phi^x = 0, & \\in \\Omega\\\\\n",
    "\\phi^x(y) = \\Phi(x - y), & \\in \\partial \\Omega\n",
    "\\end{cases}\\\\\\\\\n",
    "G(x, y) = \\Phi(x - y) - \\phi^x(y)\n",
    "$$"
   ]
  },
  {
   "cell_type": "markdown",
   "metadata": {},
   "source": [
    "### Properties of Green's function\n",
    "1) $\\Delta_y G(x, y) = 0, y \\neq 0$\n",
    "\n",
    "2) $G(x, y) = 0, y \\in \\partial \\Omega$\n",
    "\n",
    "3) $0 < G(x, y)$\n",
    "\n",
    "4) $G(x, y) = G(y, x)$"
   ]
  },
  {
   "cell_type": "markdown",
   "metadata": {},
   "source": [
    "#### Proof that $0 < G(x, y)$\n",
    "\n",
    "$\\Delta G = 0$ inside the domain, and $G = 0$ on the boundary.\n",
    "Then on some small ball $B_\\epsilon(x)$, $|x - y| = \\epsilon$, we have $G(x, y) = \\Phi(x - y) - \\phi^x(y) = \\frac{1}{w_n |x - y|^{n - 2}} - \\phi^x(y) = \\frac{1}{w_n \\epsilon^{n - 2}} - \\phi^x(y) > 0$"
   ]
  },
  {
   "cell_type": "markdown",
   "metadata": {},
   "source": [
    "HW 2 and 6 need $u(x) = \\int_\\Omega G(x, y) f(y) dy - \\int_{\\partial \\Omega} g \\frac{\\partial G}{\\partial \\nu} d\\sigma$\n",
    "\n",
    "$f$ is $C^1$, so we can apply the gradient, we can take $\\nabla v = \\int \\nabla G f$, which exists because $\\nabla G$ is bounded."
   ]
  },
  {
   "cell_type": "markdown",
   "metadata": {},
   "source": []
  },
  {
   "cell_type": "markdown",
   "metadata": {},
   "source": []
  },
  {
   "cell_type": "markdown",
   "metadata": {},
   "source": []
  },
  {
   "cell_type": "markdown",
   "metadata": {},
   "source": []
  },
  {
   "cell_type": "markdown",
   "metadata": {},
   "source": []
  },
  {
   "cell_type": "markdown",
   "metadata": {},
   "source": []
  },
  {
   "cell_type": "markdown",
   "metadata": {},
   "source": []
  }
 ],
 "metadata": {
  "kernelspec": {
   "display_name": "Python 3",
   "language": "python",
   "name": "python3"
  },
  "language_info": {
   "codemirror_mode": {
    "name": "ipython",
    "version": 3
   },
   "file_extension": ".py",
   "mimetype": "text/x-python",
   "name": "python",
   "nbconvert_exporter": "python",
   "pygments_lexer": "ipython3",
   "version": "3.7.4"
  }
 },
 "nbformat": 4,
 "nbformat_minor": 2
}
